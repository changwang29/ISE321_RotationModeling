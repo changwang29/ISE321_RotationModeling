{
 "cells": [
  {
   "cell_type": "code",
   "execution_count": 181,
   "metadata": {},
   "outputs": [],
   "source": [
    "# Import Packages\n",
    "import sys\n",
    "from operator import truediv\n",
    "import gurobipy as gp\n",
    "from gurobipy import GRB"
   ]
  },
  {
   "cell_type": "code",
   "execution_count": 182,
   "metadata": {},
   "outputs": [],
   "source": [
    "#########\n",
    "# MODEL #\n",
    "#########\n",
    "\n",
    "m = gp.Model(\"rotation_scheduling\")\n",
    "\n",
    "########\n",
    "# SETS #\n",
    "########\n",
    "\n",
    "# Defines the (ordered) set of people\n",
    "people = [\"Resident1\", \"Resident2\", \"Resident3\", \"Resident4\"]\n",
    "\n",
    "# Defines the (ordered) set of rotations\n",
    "rotations = [\"Rotation1\", \"Rotation2\", \"Rotation3\", \"Rotation4\"]\n",
    "\n",
    "# Defines the (ordered) set of blocks\n",
    "blocks = [\"1\", \"2\", \"3\", \"4\"]\n",
    "\n",
    "# Defines the set of residents who are around for the entire year\n",
    "# allYearResidents = {\"Resident1\": 1, \"Resident2\": 1, \"Resident3\": 1, \"Resident4\": 0}\n",
    "allYearResidents = [\"Resident1\", \"Resident2\", \"Resident3\"]\n",
    "\n",
    "# Defines the set of residents who are around for a partial year\n",
    "# partialYearResidents = {\"Resident1\": 0, \"Resident2\": 0, \"Resident3\": 0, \"Resident4\": 1}\n",
    "partialYearResidents = [\"Resident4\"]\n",
    "\n",
    "# Defines the rotations that all-year residents must do\n",
    "# mustDo = {\"Rotation1\": 1, \"Rotation2\": 1, \"Rotation3\": 1, \"Rotation4\": 0}\n",
    "mustDo = [\"Rotation1\",\"Rotation2\",\"Rotation3\" ]\n",
    "\n",
    "# Defines the rotations that are nonessential\n",
    "# NOT INCLUDED #\n",
    "\n",
    "# Defines parameter indicating busy rotations\n",
    "# busyRotations = {\"Rotation1\": 1, \"Rotation2\": 1, \"Rotation3\": 0, \"Rotation4\": 0}\n",
    "busyRotations = [\"Rotation1\", \"Rotation2\"]\n",
    "\n",
    "# Defines the rotations during which vacations are allowed\n",
    "# NOT INCLUDED #\n",
    "\n",
    "# Defines set of priority assignments\n",
    "# priority = {\"priority1\": {\"Resident2\": 1, \"Rotation1\": 1, \"2\": 1}} # Not sure if it is correct implementation\n",
    "priority = [(\"Resident2\", \"Rotation1\", \"2\")]\n",
    "\n",
    "# Defines set of preference assignments\n",
    "# preference = {\"preference1\": {\"Resident1\": 1, \"Rotation2\": 1, \"1\": 1}} # Not sure if it is correct implementation\n",
    "preference = [(\"Resident1\", \"Rotation2\", \"1\")]\n",
    "\n",
    "# Defines set of impossible assignments\n",
    "# impossibleAssignments = {\"impossible1\": (\"Resident3\", \"Rotation1\", \"1\")}\n",
    "impossibleAssignments = [(\"Resident3\", \"Rotation1\", \"1\")]\n",
    "\n",
    "# Defines set of impossible Rotations in certain blocks \n",
    "impossibleRotationInBlock = [(\"Rotation4\",\"4\")]\n",
    "\n",
    "# Defines vacations or interviews in certain blocks\n",
    "vacation = [(\"Resident1\", \"1\"),(\"Resident1\", \"4\"),(\"Resident2\", \"3\")]"
   ]
  },
  {
   "cell_type": "code",
   "execution_count": 183,
   "metadata": {},
   "outputs": [],
   "source": [
    "# Defines parameter for the minimum number of people for each rotation\n",
    "p_min = {\"Rotation1\": 1, \"Rotation2\": 1, \"Rotation3\": 1, \"Rotation4\": 0}\n",
    "\n",
    "# Defines parameter for the minimum number of people for each rotation\n",
    "p_max = {\"Rotation1\": 1, \"Rotation2\": 1, \"Rotation3\": 2, \"Rotation4\": 2}\n",
    "\n",
    "# Defines parameter for the minimum number of times a person must do the specified rotation\n",
    "# r_min = {[people, rotations]: 0}\n",
    "\n",
    "# Defines parameter for the maximum number of times a person must do the specified rotation\n",
    "# r_max = {[people, rotations]: 0}\n"
   ]
  },
  {
   "cell_type": "code",
   "execution_count": 184,
   "metadata": {},
   "outputs": [],
   "source": [
    "#############\n",
    "# DECISION VARIABLES #\n",
    "#############\n",
    "\n",
    "# Defines the decision variables (x[p,r,b]=1 if person p assigned to rotation r in block b; x[p,r,b]=0 otherwise)\n",
    "x = m.addVars(people, rotations, blocks, vtype=GRB.BINARY, name = \"x\")\n",
    "\n",
    "# Defines variables for consecutive busy rotations\n",
    "y = m.addVars(people, busyRotations, busyRotations, blocks, vtype=GRB.BINARY, name = \"y\")\n"
   ]
  },
  {
   "cell_type": "code",
   "execution_count": 185,
   "metadata": {},
   "outputs": [],
   "source": [
    "#############\n",
    "# OBJECTIVE #\n",
    "#############\n",
    "\n",
    "m.setObjective(\n",
    "    sum(x[(p, r, b)] for (p,r,b) in preference), sense = GRB.MAXIMIZE\n",
    ")"
   ]
  },
  {
   "cell_type": "code",
   "execution_count": 186,
   "metadata": {},
   "outputs": [
    {
     "data": {
      "text/plain": [
       "{('Resident1', '1'): <gurobi.Constr *Awaiting Model Update*>,\n",
       " ('Resident1', '2'): <gurobi.Constr *Awaiting Model Update*>,\n",
       " ('Resident1', '3'): <gurobi.Constr *Awaiting Model Update*>,\n",
       " ('Resident1', '4'): <gurobi.Constr *Awaiting Model Update*>,\n",
       " ('Resident2', '1'): <gurobi.Constr *Awaiting Model Update*>,\n",
       " ('Resident2', '2'): <gurobi.Constr *Awaiting Model Update*>,\n",
       " ('Resident2', '3'): <gurobi.Constr *Awaiting Model Update*>,\n",
       " ('Resident2', '4'): <gurobi.Constr *Awaiting Model Update*>,\n",
       " ('Resident3', '1'): <gurobi.Constr *Awaiting Model Update*>,\n",
       " ('Resident3', '2'): <gurobi.Constr *Awaiting Model Update*>,\n",
       " ('Resident3', '3'): <gurobi.Constr *Awaiting Model Update*>,\n",
       " ('Resident3', '4'): <gurobi.Constr *Awaiting Model Update*>,\n",
       " ('Resident4', '1'): <gurobi.Constr *Awaiting Model Update*>,\n",
       " ('Resident4', '2'): <gurobi.Constr *Awaiting Model Update*>,\n",
       " ('Resident4', '3'): <gurobi.Constr *Awaiting Model Update*>,\n",
       " ('Resident4', '4'): <gurobi.Constr *Awaiting Model Update*>}"
      ]
     },
     "execution_count": 186,
     "metadata": {},
     "output_type": "execute_result"
    }
   ],
   "source": [
    "###############\n",
    "# CONSTRAINTS #\n",
    "###############\n",
    "\n",
    "# Ensures one person cannot be assigned two blocks at once\n",
    "m.addConstrs((sum(x[(p,r,b)] for r in rotations) == 1  for p in people for b in blocks),name = \"personOneAssignmentPerBlock\")"
   ]
  },
  {
   "cell_type": "code",
   "execution_count": 187,
   "metadata": {},
   "outputs": [
    {
     "data": {
      "text/plain": [
       "{('Rotation1', '1'): <gurobi.Constr *Awaiting Model Update*>,\n",
       " ('Rotation1', '2'): <gurobi.Constr *Awaiting Model Update*>,\n",
       " ('Rotation1', '3'): <gurobi.Constr *Awaiting Model Update*>,\n",
       " ('Rotation1', '4'): <gurobi.Constr *Awaiting Model Update*>,\n",
       " ('Rotation2', '1'): <gurobi.Constr *Awaiting Model Update*>,\n",
       " ('Rotation2', '2'): <gurobi.Constr *Awaiting Model Update*>,\n",
       " ('Rotation2', '3'): <gurobi.Constr *Awaiting Model Update*>,\n",
       " ('Rotation2', '4'): <gurobi.Constr *Awaiting Model Update*>,\n",
       " ('Rotation3', '1'): <gurobi.Constr *Awaiting Model Update*>,\n",
       " ('Rotation3', '2'): <gurobi.Constr *Awaiting Model Update*>,\n",
       " ('Rotation3', '3'): <gurobi.Constr *Awaiting Model Update*>,\n",
       " ('Rotation3', '4'): <gurobi.Constr *Awaiting Model Update*>,\n",
       " ('Rotation4', '1'): <gurobi.Constr *Awaiting Model Update*>,\n",
       " ('Rotation4', '2'): <gurobi.Constr *Awaiting Model Update*>,\n",
       " ('Rotation4', '3'): <gurobi.Constr *Awaiting Model Update*>,\n",
       " ('Rotation4', '4'): <gurobi.Constr *Awaiting Model Update*>}"
      ]
     },
     "execution_count": 187,
     "metadata": {},
     "output_type": "execute_result"
    }
   ],
   "source": [
    "# Ensures sufficient coverage for each rotation\n",
    "m.addConstrs((p_min[r]  <= sum([x[(p,r,b)] for p in people]) for r in rotations for b in blocks), name = \"rotationCoverage_Min\" )\n",
    "m.addConstrs((p_max[r]  >= sum([x[(p,r,b)] for p in people]) for r in rotations for b in blocks), name = \"rotationCoverage_Max\" )"
   ]
  },
  {
   "cell_type": "code",
   "execution_count": 188,
   "metadata": {},
   "outputs": [
    {
     "data": {
      "text/plain": [
       "{('Resident1', 'Rotation1'): <gurobi.Constr *Awaiting Model Update*>,\n",
       " ('Resident1', 'Rotation2'): <gurobi.Constr *Awaiting Model Update*>,\n",
       " ('Resident1', 'Rotation3'): <gurobi.Constr *Awaiting Model Update*>,\n",
       " ('Resident2', 'Rotation1'): <gurobi.Constr *Awaiting Model Update*>,\n",
       " ('Resident2', 'Rotation2'): <gurobi.Constr *Awaiting Model Update*>,\n",
       " ('Resident2', 'Rotation3'): <gurobi.Constr *Awaiting Model Update*>,\n",
       " ('Resident3', 'Rotation1'): <gurobi.Constr *Awaiting Model Update*>,\n",
       " ('Resident3', 'Rotation2'): <gurobi.Constr *Awaiting Model Update*>,\n",
       " ('Resident3', 'Rotation3'): <gurobi.Constr *Awaiting Model Update*>}"
      ]
     },
     "execution_count": 188,
     "metadata": {},
     "output_type": "execute_result"
    }
   ],
   "source": [
    "# Ensures that all-year residents must do each must-do rotation\n",
    "m.addConstrs((sum(x[(p,r,b)] for b in blocks) >= 1  for p in allYearResidents for r in mustDo), name = \"AllYear_mustdo\")"
   ]
  },
  {
   "cell_type": "code",
   "execution_count": 189,
   "metadata": {},
   "outputs": [
    {
     "data": {
      "text/plain": [
       "{('Resident2', 'Rotation1', '2'): <gurobi.Constr *Awaiting Model Update*>}"
      ]
     },
     "execution_count": 189,
     "metadata": {},
     "output_type": "execute_result"
    }
   ],
   "source": [
    "# Ensures Priority Assignments are fulfilled\n",
    "m.addConstrs((x[(p,r,b)] == 1 for (p,r,b) in priority), name = \"priority\")"
   ]
  },
  {
   "cell_type": "code",
   "execution_count": 190,
   "metadata": {},
   "outputs": [
    {
     "data": {
      "text/plain": [
       "{('Resident3', 'Rotation1', '1'): <gurobi.Constr *Awaiting Model Update*>}"
      ]
     },
     "execution_count": 190,
     "metadata": {},
     "output_type": "execute_result"
    }
   ],
   "source": [
    "# Ensures rotations that cannot happen, do not happen\n",
    "m.addConstrs((x[(p,r,b)] == 0 for (p,r,b) in impossibleAssignments), name = \"impossibleAssignment\")"
   ]
  },
  {
   "cell_type": "code",
   "execution_count": 191,
   "metadata": {},
   "outputs": [
    {
     "data": {
      "text/plain": [
       "{('Resident1', 'Rotation4', '4'): <gurobi.Constr *Awaiting Model Update*>,\n",
       " ('Resident2', 'Rotation4', '4'): <gurobi.Constr *Awaiting Model Update*>,\n",
       " ('Resident3', 'Rotation4', '4'): <gurobi.Constr *Awaiting Model Update*>,\n",
       " ('Resident4', 'Rotation4', '4'): <gurobi.Constr *Awaiting Model Update*>}"
      ]
     },
     "execution_count": 191,
     "metadata": {},
     "output_type": "execute_result"
    }
   ],
   "source": [
    "# Constraint that establishes certain rotations impossible within certain blocks\n",
    "m.addConstrs((x[(p,r,b)] == 0 for p in people for (r,b) in impossibleRotationInBlock ), name = \"impossibleRotationInBlock\")"
   ]
  },
  {
   "cell_type": "code",
   "execution_count": 192,
   "metadata": {},
   "outputs": [
    {
     "data": {
      "text/plain": [
       "{('Rotation1', 'Resident1', '1'): <gurobi.Constr *Awaiting Model Update*>,\n",
       " ('Rotation1', 'Resident1', '4'): <gurobi.Constr *Awaiting Model Update*>,\n",
       " ('Rotation1', 'Resident2', '3'): <gurobi.Constr *Awaiting Model Update*>,\n",
       " ('Rotation2', 'Resident1', '1'): <gurobi.Constr *Awaiting Model Update*>,\n",
       " ('Rotation2', 'Resident1', '4'): <gurobi.Constr *Awaiting Model Update*>,\n",
       " ('Rotation2', 'Resident2', '3'): <gurobi.Constr *Awaiting Model Update*>}"
      ]
     },
     "execution_count": 192,
     "metadata": {},
     "output_type": "execute_result"
    }
   ],
   "source": [
    "# Vacations and Interviews constraint that prohibits resident from doing a busy rotation during the vacation or interview period\n",
    "m.addConstrs((x[(p,r,b)] == 0 for r in busyRotations for (p,b) in vacation), name = \"vacation\")"
   ]
  },
  {
   "cell_type": "code",
   "execution_count": 193,
   "metadata": {},
   "outputs": [
    {
     "name": "stdout",
     "output_type": "stream",
     "text": [
      "Gurobi Optimizer version 9.5.2 build v9.5.2rc0 (mac64[rosetta2])\n",
      "Thread count: 8 physical cores, 8 logical processors, using up to 8 threads\n",
      "Optimize a model with 69 rows, 128 columns and 240 nonzeros\n",
      "Model fingerprint: 0x41e9a93a\n",
      "Variable types: 0 continuous, 128 integer (128 binary)\n",
      "Coefficient statistics:\n",
      "  Matrix range     [1e+00, 1e+00]\n",
      "  Objective range  [1e+00, 1e+00]\n",
      "  Bounds range     [1e+00, 1e+00]\n",
      "  RHS range        [1e+00, 2e+00]\n",
      "Found heuristic solution: objective -0.0000000\n",
      "Presolve removed 69 rows and 128 columns\n",
      "Presolve time: 0.00s\n",
      "Presolve: All rows and columns removed\n",
      "\n",
      "Explored 0 nodes (0 simplex iterations) in 0.01 seconds (0.00 work units)\n",
      "Thread count was 1 (of 8 available processors)\n",
      "\n",
      "Solution count 1: -0 \n",
      "No other solutions better than -0\n",
      "\n",
      "Optimal solution found (tolerance 1.00e-04)\n",
      "Best objective -0.000000000000e+00, best bound -0.000000000000e+00, gap 0.0000%\n",
      "0.0\n"
     ]
    }
   ],
   "source": [
    "m.optimize()\n",
    "a = m.getObjective()\n",
    "print(a.getValue())"
   ]
  },
  {
   "cell_type": "code",
   "execution_count": 196,
   "metadata": {},
   "outputs": [
    {
     "name": "stdout",
     "output_type": "stream",
     "text": [
      "x[Resident1,Rotation1,3] 1\n",
      "x[Resident1,Rotation2,2] 1\n",
      "x[Resident1,Rotation3,1] 1\n",
      "x[Resident1,Rotation3,4] 1\n",
      "x[Resident2,Rotation1,2] 1\n",
      "x[Resident2,Rotation2,4] 1\n",
      "x[Resident2,Rotation3,3] 1\n",
      "x[Resident2,Rotation4,1] 1\n",
      "x[Resident3,Rotation1,4] 1\n",
      "x[Resident3,Rotation2,1] 1\n",
      "x[Resident3,Rotation3,2] 1\n",
      "x[Resident3,Rotation4,3] 1\n",
      "x[Resident4,Rotation1,1] 1\n",
      "x[Resident4,Rotation2,3] 1\n",
      "x[Resident4,Rotation3,2] 1\n",
      "x[Resident4,Rotation3,4] 1\n"
     ]
    }
   ],
   "source": [
    "for v in m.getVars():\n",
    "    if v.x == 1: # When assign the resident to this rotation in the block \n",
    "        print('%s %g' % (v.varName,v.x))"
   ]
  }
 ],
 "metadata": {
  "kernelspec": {
   "display_name": "Python 3.9.7 ('base')",
   "language": "python",
   "name": "python3"
  },
  "language_info": {
   "codemirror_mode": {
    "name": "ipython",
    "version": 3
   },
   "file_extension": ".py",
   "mimetype": "text/x-python",
   "name": "python",
   "nbconvert_exporter": "python",
   "pygments_lexer": "ipython3",
   "version": "3.9.7"
  },
  "orig_nbformat": 4,
  "vscode": {
   "interpreter": {
    "hash": "c57f1d4122eb3ab6cca186c7b3534ea8b859df71b4b934168d89ff407e837eb1"
   }
  }
 },
 "nbformat": 4,
 "nbformat_minor": 2
}
